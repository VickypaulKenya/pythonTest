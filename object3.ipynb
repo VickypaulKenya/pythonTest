{
 "cells": [
  {
   "cell_type": "markdown",
   "metadata": {},
   "source": [
    "# OBJECT ORIENTED PROGRAMMING (CLASSES)"
   ]
  },
  {
   "cell_type": "code",
   "execution_count": null,
   "metadata": {},
   "outputs": [],
   "source": [
    "class Car:\n",
    "    def __init__(self,year,speed):\n",
    "        self.year=year\n",
    "        self.speed=speed\n",
    "    def getSpeed(self):\n",
    "        print(\"Maximum Speed is: \", self.speed)\n",
    "    def setSpeed(self,speed):\n",
    "        self.speed=speed\n",
    "\n",
    "FORD=Car(2010,143)\n",
    "BMW=Car(2018,150)  \n",
    "BMW.getSpeed()\n",
    "BMW.setSpeed(300)\n",
    "BMW.getSpeed()\n",
    "\n",
    "FORD.getSpeed()\n",
    "FORD.setSpeed(100)\n",
    "FORD.getSpeed()"
   ]
  },
  {
   "cell_type": "code",
   "execution_count": null,
   "metadata": {},
   "outputs": [],
   "source": [
    "class Car:\n",
    "    def __init__(self,year,speed):\n",
    "        self.year=year\n",
    "        self.speed=speed\n",
    "    def getSpeed(self):\n",
    "        print(\"Maximum Speed is: \", self.speed)\n",
    "    def setSpeed(self,speed):\n",
    "        self.speed=speed\n",
    "\n",
    "FORD=Car(2010,143)\n",
    "BMW=Car(2018,150) \n",
    "\n",
    "class Sedan(Car):\n",
    "    def accelerate(self):\n",
    "        print(260)\n",
    "    def openTrunk(self):\n",
    "        print(\"Trunk has been openned\")    \n",
    "class SUV(Car):\n",
    "    def accelerate(self):\n",
    "        print(179)\n",
    "Honda= Sedan(2017,200) \n",
    "\n",
    "BMW.getSpeed()\n",
    "Honda.getSpeed()\n",
    "\n",
    "Honda.openTrunk()\n"
   ]
  }
 ],
 "metadata": {
  "kernelspec": {
   "display_name": "base",
   "language": "python",
   "name": "python3"
  },
  "language_info": {
   "codemirror_mode": {
    "name": "ipython",
    "version": 3
   },
   "file_extension": ".py",
   "mimetype": "text/x-python",
   "name": "python",
   "nbconvert_exporter": "python",
   "pygments_lexer": "ipython3",
   "version": "3.12.3"
  }
 },
 "nbformat": 4,
 "nbformat_minor": 2
}
