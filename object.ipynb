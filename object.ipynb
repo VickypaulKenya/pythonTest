{
 "cells": [
  {
   "cell_type": "markdown",
   "metadata": {},
   "source": [
    "# OBJECT AND CLASSES IN PYTHON"
   ]
  },
  {
   "cell_type": "code",
   "execution_count": 2,
   "metadata": {},
   "outputs": [
    {
     "name": "stdout",
     "output_type": "stream",
     "text": [
      "Hi, I'm Tom and I am 23 years old.\n",
      "Gender: male\n",
      "You are eligible to vote.\n"
     ]
    }
   ],
   "source": [
    "class Person:\n",
    "    def __init__(self):\n",
    " \n",
    "        self.name = input(\"Enter your name: \").strip()\n",
    "        while not self.name.isalpha():  \n",
    "            print(\"Kindly enter your name (letters only).\")\n",
    "            self.name = input(\"Enter your name: \").strip()\n",
    "\n",
    "       \n",
    "        self.gender = input(\"Enter your gender: \").strip()\n",
    "        while not self.gender.isalpha():  \n",
    "            print(\"Kindly enter your gender (letters only).\")\n",
    "            self.gender = input(\"Enter your gender: \").strip()\n",
    "\n",
    "      \n",
    "        while True:\n",
    "            try:\n",
    "                self.age = int(input(\"Enter your age: \").strip())\n",
    "                if self.age < 0: \n",
    "                    print(\"Age cannot be negative. Kindly enter a valid age.\")\n",
    "                    continue\n",
    "                break\n",
    "            except ValueError:\n",
    "                print(\"Enter a valid numeric value for your age.\")\n",
    "\n",
    "    def talk(self):\n",
    "        print(f\"Hi, I'm {self.name} and I am {self.age} years old.\")\n",
    "        print(f\"Gender: {self.gender}\")\n",
    "\n",
    "    def vote(self):\n",
    "        if self.age < 18:\n",
    "            print(\"You are not eligible to vote.\")\n",
    "        else:\n",
    "            print(\"You are eligible to vote.\")\n",
    "\n",
    "\n",
    "obj = Person()\n",
    "obj.talk()\n",
    "obj.vote()\n"
   ]
  }
 ],
 "metadata": {
  "kernelspec": {
   "display_name": "base",
   "language": "python",
   "name": "python3"
  },
  "language_info": {
   "codemirror_mode": {
    "name": "ipython",
    "version": 3
   },
   "file_extension": ".py",
   "mimetype": "text/x-python",
   "name": "python",
   "nbconvert_exporter": "python",
   "pygments_lexer": "ipython3",
   "version": "3.12.3"
  }
 },
 "nbformat": 4,
 "nbformat_minor": 2
}
