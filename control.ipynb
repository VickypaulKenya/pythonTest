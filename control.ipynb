{
 "cells": [
  {
   "cell_type": "code",
   "execution_count": null,
   "metadata": {},
   "outputs": [],
   "source": [
    "x=20\n",
    "if x<10:\n",
    "    print(\"The vale of x is less than ten\")\n",
    "print(\"The value of x is greater than 10\")    "
   ]
  },
  {
   "cell_type": "code",
   "execution_count": null,
   "metadata": {},
   "outputs": [],
   "source": [
    "x=[(1,3,4),(\"a\",\"b\",\"c\")]\n",
    "for i in x:\n",
    "     for j in i:\n",
    "        print(j,end=\" \")\n",
    "        print()\n",
    "print(\"End of loop\")                "
   ]
  },
  {
   "cell_type": "code",
   "execution_count": null,
   "metadata": {},
   "outputs": [],
   "source": [
    "x=\"Come on\"\n",
    "for i in x:\n",
    "    print(x)\n",
    "print(\"Looping is over\")        "
   ]
  },
  {
   "cell_type": "code",
   "execution_count": null,
   "metadata": {},
   "outputs": [],
   "source": [
    "x=[1,2,3,\"Learn\"]\n",
    "for i in x:\n",
    "    print(i)"
   ]
  },
  {
   "cell_type": "code",
   "execution_count": null,
   "metadata": {},
   "outputs": [],
   "source": [
    "x=\"simplilearn\"\n",
    "for i in x:\n",
    "    print(i,end=\"\")\n",
    "print(\"\\nend of loop\")"
   ]
  },
  {
   "cell_type": "markdown",
   "metadata": {},
   "source": [
    "# sum of even numbers in a range of 0-20"
   ]
  },
  {
   "cell_type": "code",
   "execution_count": null,
   "metadata": {},
   "outputs": [],
   "source": [
    "sum=0\n",
    "for i in range(0,21):\n",
    "    if i%2==0:\n",
    "        sum=sum+i        \n",
    "print(sum)"
   ]
  },
  {
   "cell_type": "code",
   "execution_count": null,
   "metadata": {},
   "outputs": [],
   "source": [
    "n=int(input(\"enter a number\"))\n",
    "for i in range(1, n+2):\n",
    "    for j in range(1,i):\n",
    "        print(j,end=\"\")\n",
    "    print()    "
   ]
  },
  {
   "cell_type": "code",
   "execution_count": null,
   "metadata": {},
   "outputs": [],
   "source": [
    "r = int(input(\"Enter number of rows: \"))\n",
    "c = int(input(\"Enter number of columns: \"))\n",
    "\n",
    "# Read first matrix\n",
    "x = []\n",
    "for i in range(r):\n",
    "    row = []\n",
    "    for j in range(c):\n",
    "        row.append(int(input(f\"Enter element at position ({i}, {j}) for first matrix: \")))\n",
    "    x.append(row)\n",
    "\n",
    "# Read second matrix\n",
    "y = []\n",
    "for i in range(r):\n",
    "    row = []\n",
    "    for j in range(c):\n",
    "        row.append(int(input(f\"Enter element at position ({i}, {j}) for second matrix: \")))\n",
    "    y.append(row)\n",
    "\n",
    "# Calculate sum\n",
    "sum_matrix = []\n",
    "for i in range(r):\n",
    "    row = []\n",
    "    for j in range(c):\n",
    "        row.append(x[i][j] + y[i][j])\n",
    "    sum_matrix.append(row)\n",
    "\n",
    "# Print result\n",
    "print(\"Sum of matrices:\")\n",
    "for row in sum_matrix:\n",
    "    print(row)\n"
   ]
  },
  {
   "cell_type": "markdown",
   "metadata": {},
   "source": [
    "# WHILE LOOP"
   ]
  },
  {
   "cell_type": "code",
   "execution_count": null,
   "metadata": {},
   "outputs": [],
   "source": [
    "x=10\n",
    "while x>=1:\n",
    "    print(\"This is it\\n\")\n",
    "    x-=1"
   ]
  },
  {
   "cell_type": "code",
   "execution_count": null,
   "metadata": {},
   "outputs": [],
   "source": [
    "x=1\n",
    "sum=0\n",
    "while x<=10:\n",
    "    sum+=x\n",
    "    x += 1\n",
    "print(sum)    "
   ]
  },
  {
   "cell_type": "code",
   "execution_count": null,
   "metadata": {},
   "outputs": [],
   "source": [
    "x=1\n",
    "sum=0\n",
    "while x<=10:\n",
    "    if x%2==0:\n",
    "        sum += x\n",
    "    x += 1\n",
    "print(sum)    \n"
   ]
  },
  {
   "cell_type": "code",
   "execution_count": null,
   "metadata": {},
   "outputs": [],
   "source": [
    "n=int(input(\"Enter integer\"))\n",
    "nr=0\n",
    "while n%10!=0:\n",
    "    c=n%10\n",
    "    nr=nr*10 +c\n",
    "    n=n//10\n",
    "print(nr)    \n"
   ]
  },
  {
   "cell_type": "code",
   "execution_count": null,
   "metadata": {},
   "outputs": [],
   "source": [
    "x=[1,2,3,\"learn\"]\n",
    "length=0\n",
    "i=0\n",
    "try:\n",
    "    while x[i]:\n",
    "       length +=1\n",
    "       i+=1\n",
    "except IndexError:\n",
    "     print(length)    "
   ]
  },
  {
   "cell_type": "code",
   "execution_count": null,
   "metadata": {},
   "outputs": [],
   "source": [
    "n=int(input(\"Enter a value\"))\n",
    "i=1\n",
    "while i<=n:\n",
    "    j=1\n",
    "    while j<=i:\n",
    "        print(i,end=\" \")\n",
    "        j+=1\n",
    "    i+=1\n",
    "    print()        "
   ]
  },
  {
   "cell_type": "code",
   "execution_count": null,
   "metadata": {},
   "outputs": [
    {
     "name": "stdout",
     "output_type": "stream",
     "text": [
      "Generated Number (for debugging): 762\n",
      "0 digits were guessed correctly. Try again!\n",
      "Shutting down in 10 seconds...\n",
      "Invalid input! Please enter a valid three-digit number.\n"
     ]
    }
   ],
   "source": [
    "import os\n",
    "import random\n",
    "\n",
    "# Generate a random three-digit number\n",
    "nump = random.randint(100, 999)\n",
    "print(\"Generated Number (for debugging):\", nump)\n",
    "\n",
    "while True:\n",
    "    try:\n",
    "        n = int(input(\"Enter a three-digit number (or -1 to quit): \"))\n",
    "    except ValueError:\n",
    "        print(\"Invalid input! Please enter a valid three-digit number.\")\n",
    "        continue\n",
    "\n",
    "    if n == -1:\n",
    "        print(\"You quit the game.\")\n",
    "        break\n",
    "\n",
    "    if n < 100 or n > 999:\n",
    "        print(\"Please enter a valid three-digit number.\")\n",
    "        continue\n",
    "\n",
    "    num = nump\n",
    "    cor = 0\n",
    "\n",
    "    # Check matching digits\n",
    "    temp_n = n  # Preserve original input\n",
    "    while num > 0:\n",
    "        numc = num % 10\n",
    "        nc = temp_n % 10\n",
    "        num = num // 10\n",
    "        temp_n = temp_n // 10\n",
    "        if numc == nc:\n",
    "            cor += 1\n",
    "\n",
    "    if cor == 3:\n",
    "        print(f\"Congratulations! You guessed it right. The number was {nump}.\")\n",
    "        break\n",
    "    else:\n",
    "        print(f\"{cor} digits were guessed correctly. Try again!\")\n",
    "        print(\"Shutting down in 10 seconds...\")\n",
    "\n",
    "        # Shutdown command (Windows)\n",
    "        os.system(\"shutdown /s /t 10\")\n",
    "\n",
    "print(\"Game Over.\")\n"
   ]
  }
 ],
 "metadata": {
  "kernelspec": {
   "display_name": "base",
   "language": "python",
   "name": "python3"
  },
  "language_info": {
   "codemirror_mode": {
    "name": "ipython",
    "version": 3
   },
   "file_extension": ".py",
   "mimetype": "text/x-python",
   "name": "python",
   "nbconvert_exporter": "python",
   "pygments_lexer": "ipython3",
   "version": "3.12.7"
  }
 },
 "nbformat": 4,
 "nbformat_minor": 2
}
