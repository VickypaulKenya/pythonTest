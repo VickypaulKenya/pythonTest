{
 "cells": [
  {
   "cell_type": "code",
   "execution_count": 2,
   "metadata": {},
   "outputs": [
    {
     "name": "stdout",
     "output_type": "stream",
     "text": [
      "H I'm Tom and 33 years old\n",
      "You are elible to vote\n"
     ]
    }
   ],
   "source": [
    "class Person:\n",
    "    def __init__(self):\n",
    "        self.name=input(\"Enter your name\").strip()\n",
    "        while not self.name.isalpha():\n",
    "            print(\"Enter valid name (letters only)\")\n",
    "            self.name=input(\"Enter your valid name\")\n",
    "\n",
    "        self.gender=input(\"Enter your gender\").strip() \n",
    "        while  not self.gender.isalpha() :\n",
    "             print(\"Enter your valid gender  (letter only)\")  \n",
    "             self.gender=input(\"Enter your gender\").strip()\n",
    "\n",
    "        while True: \n",
    "            try: \n",
    "                self.age=int(input(\"Enter your valid age\"))\n",
    "                if self.age<0:\n",
    "                    print(\"No negative number allowed, kindly enter only positive numbers\")\n",
    "                    continue\n",
    "                break\n",
    "            except ValueError: \n",
    "                print(\"Enter valid numeric values for your age\")  \n",
    "    def talk(self) :\n",
    "        print(f\"H I'm {self.name} and {self.age} years old\") \n",
    "\n",
    "    def vote(self):\n",
    "        if self.age<18:\n",
    "            print(\"You are not eligible to vote\")\n",
    "        else:\n",
    "            print(\"You are elible to vote\") \n",
    "\n",
    "obj1=Person()\n",
    "obj1.talk()\n",
    "obj1.vote()\n"
   ]
  }
 ],
 "metadata": {
  "kernelspec": {
   "display_name": "base",
   "language": "python",
   "name": "python3"
  },
  "language_info": {
   "codemirror_mode": {
    "name": "ipython",
    "version": 3
   },
   "file_extension": ".py",
   "mimetype": "text/x-python",
   "name": "python",
   "nbconvert_exporter": "python",
   "pygments_lexer": "ipython3",
   "version": "3.12.3"
  }
 },
 "nbformat": 4,
 "nbformat_minor": 2
}
