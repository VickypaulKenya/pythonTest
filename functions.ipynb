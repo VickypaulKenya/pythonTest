{
 "cells": [
  {
   "cell_type": "markdown",
   "metadata": {},
   "source": [
    "# FUNCTIONS IN PYTHON\n",
    "# syntax \n",
    "# def funtion_name:\n",
    "#            statements()"
   ]
  },
  {
   "cell_type": "code",
   "execution_count": 1,
   "metadata": {},
   "outputs": [
    {
     "name": "stdout",
     "output_type": "stream",
     "text": [
      "hello\n"
     ]
    }
   ],
   "source": [
    "def my_function():\n",
    "     print(\"hello\")\n",
    "my_function()     "
   ]
  },
  {
   "cell_type": "code",
   "execution_count": 14,
   "metadata": {},
   "outputs": [
    {
     "name": "stdout",
     "output_type": "stream",
     "text": [
      "Sum:  108\n"
     ]
    }
   ],
   "source": [
    "def add(*a):\n",
    "     total=0\n",
    "     for i in a:\n",
    "          total +=i\n",
    "     print(\"Sum: \",total)\n",
    "\n",
    "add(3,7,9,89)   "
   ]
  },
  {
   "cell_type": "code",
   "execution_count": 21,
   "metadata": {},
   "outputs": [
    {
     "name": "stdout",
     "output_type": "stream",
     "text": [
      "xy 140720114916056 140720114916376\n",
      "ab before 140720114916056 140720114916376\n",
      "ab after 140720114915800 140720114915832\n",
      "sum is:  5\n",
      "Sum of x+y= 30\n"
     ]
    }
   ],
   "source": [
    "def add(a,b):\n",
    "    print(\"ab before\",id(a),id(b))\n",
    "    a=2\n",
    "    b=3\n",
    "    print(\"ab after\",id(a),id(b))\n",
    "    total=a+b\n",
    "    print(\"sum is: \",total)\n",
    "\n",
    "x=10\n",
    "y=20\n",
    "print(\"xy\",id(x),id(y))\n",
    "add(x,y)\n",
    "print(\"Sum of x+y=\",x+y)\n"
   ]
  },
  {
   "cell_type": "code",
   "execution_count": 26,
   "metadata": {},
   "outputs": [
    {
     "name": "stdout",
     "output_type": "stream",
     "text": [
      "[1, 2, 3]\n",
      "[1, 2, 0]\n"
     ]
    }
   ],
   "source": [
    "def add(list):\n",
    "      list[2] =0\n",
    "\n",
    "list=[1,2,3]\n",
    "print(list)\n",
    "add(list)\n",
    "\n",
    "print(list)       "
   ]
  },
  {
   "cell_type": "code",
   "execution_count": 27,
   "metadata": {},
   "outputs": [
    {
     "name": "stdout",
     "output_type": "stream",
     "text": [
      "88\n"
     ]
    }
   ],
   "source": [
    "def add(a,b):\n",
    "    total=a+b\n",
    "    return total\n",
    "result=add(10,78)\n",
    "print(result)\n",
    "\n"
   ]
  }
 ],
 "metadata": {
  "kernelspec": {
   "display_name": "base",
   "language": "python",
   "name": "python3"
  },
  "language_info": {
   "codemirror_mode": {
    "name": "ipython",
    "version": 3
   },
   "file_extension": ".py",
   "mimetype": "text/x-python",
   "name": "python",
   "nbconvert_exporter": "python",
   "pygments_lexer": "ipython3",
   "version": "3.12.3"
  }
 },
 "nbformat": 4,
 "nbformat_minor": 2
}
