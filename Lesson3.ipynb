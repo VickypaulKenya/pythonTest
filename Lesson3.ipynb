{
 "cells": [
  {
   "cell_type": "code",
   "execution_count": 9,
   "metadata": {},
   "outputs": [],
   "source": [
    "list=[1,2,3,4,5]"
   ]
  },
  {
   "cell_type": "code",
   "execution_count": 10,
   "metadata": {},
   "outputs": [
    {
     "data": {
      "text/plain": [
       "list"
      ]
     },
     "execution_count": 10,
     "metadata": {},
     "output_type": "execute_result"
    }
   ],
   "source": [
    "type(list)"
   ]
  },
  {
   "cell_type": "code",
   "execution_count": 11,
   "metadata": {},
   "outputs": [
    {
     "name": "stdout",
     "output_type": "stream",
     "text": [
      "None\n"
     ]
    }
   ],
   "source": [
    "x=list.append(66)\n",
    "print(x)"
   ]
  },
  {
   "cell_type": "code",
   "execution_count": 12,
   "metadata": {},
   "outputs": [
    {
     "name": "stdout",
     "output_type": "stream",
     "text": [
      "2\n",
      "[5, 4, 3, 2, 1]\n",
      "6\n"
     ]
    }
   ],
   "source": [
    "print(list[1])\n",
    "print(list[4::-1])\n",
    "print(len(list))"
   ]
  },
  {
   "cell_type": "code",
   "execution_count": 13,
   "metadata": {},
   "outputs": [
    {
     "name": "stdout",
     "output_type": "stream",
     "text": [
      "None\n"
     ]
    }
   ],
   "source": [
    "x1=list.remove(list[2])\n",
    "print(x1)"
   ]
  },
  {
   "cell_type": "code",
   "execution_count": 14,
   "metadata": {},
   "outputs": [
    {
     "name": "stdout",
     "output_type": "stream",
     "text": [
      "([1, 2, 3, 4], ['yes', 'you ', 'can do it'], 1, 2, 3, 4, 5, 6, 7, 8)\n",
      "(8, 6, 4, 2, ['yes', 'you ', 'can do it'])\n"
     ]
    }
   ],
   "source": [
    "y=(1,2,3,4,5,6,7,8)\n",
    "\n",
    "\n",
    "z=[(1,2,3,4),(5,6,5,6,7)]\n",
    "t=([1,2,3,4,],[\"yes\",\"you \",\"can do it\"])\n",
    "q=t+y\n",
    "print(q)\n",
    "print(q[::-2])\n"
   ]
  },
  {
   "cell_type": "code",
   "execution_count": 15,
   "metadata": {},
   "outputs": [
    {
     "name": "stdout",
     "output_type": "stream",
     "text": [
      "1.7320508075688772\n",
      "64.0\n"
     ]
    }
   ],
   "source": [
    "import math\n",
    "print(math.sqrt(3))\n",
    "print(math.pow(4,3))"
   ]
  },
  {
   "cell_type": "code",
   "execution_count": 16,
   "metadata": {},
   "outputs": [
    {
     "name": "stdout",
     "output_type": "stream",
     "text": [
      "Tim's birthday\n"
     ]
    }
   ],
   "source": [
    "string=\"Tim\\'s birthday\"\n",
    "print(string)"
   ]
  },
  {
   "cell_type": "code",
   "execution_count": 17,
   "metadata": {},
   "outputs": [
    {
     "name": "stdout",
     "output_type": "stream",
     "text": [
      "Hey there martin\n",
      "16\n",
      "Hey there martin"
     ]
    }
   ],
   "source": [
    "string=\"Hey there martin\"\n",
    "print(string)\n",
    "print(len((string)))\n",
    "for i in string:\n",
    "    print(i, end=\"\")"
   ]
  },
  {
   "cell_type": "code",
   "execution_count": 18,
   "metadata": {},
   "outputs": [
    {
     "name": "stdout",
     "output_type": "stream",
     "text": [
      "WELCOME TO PYTHON\n",
      "Welcome to python\n",
      "4\n",
      "4\n",
      "None\n",
      "welcome to scripting language\n",
      "('welcome', ' to ', 'python')\n"
     ]
    }
   ],
   "source": [
    "stg=\"welcome to python\"\n",
    "print(stg.upper())\n",
    "print(stg.capitalize())\n",
    "print(stg.find(\"o\"))\n",
    "print(stg.index(\"o\"))\n",
    "print(x)\n",
    "print(stg.replace(\"python\",\"scripting language\"))\n",
    "#x=stg.split(\" \")\n",
    "x=stg.rpartition(\" to \")\n",
    "print(x)"
   ]
  },
  {
   "cell_type": "markdown",
   "metadata": {},
   "source": [
    "# str concatination"
   ]
  },
  {
   "cell_type": "code",
   "execution_count": 19,
   "metadata": {},
   "outputs": [
    {
     "name": "stdout",
     "output_type": "stream",
     "text": [
      "Good Morning, all\n"
     ]
    }
   ],
   "source": [
    "stg1=\"Good\"\n",
    "stg2=\"Morning\"\n",
    "stg3=\"all\"\n",
    "result=\"{} {}, {}\".format(stg1,stg2,stg3)\n",
    "print(result)"
   ]
  },
  {
   "cell_type": "markdown",
   "metadata": {},
   "source": [
    "# Dictionary"
   ]
  },
  {
   "cell_type": "code",
   "execution_count": 20,
   "metadata": {},
   "outputs": [
    {
     "name": "stdout",
     "output_type": "stream",
     "text": [
      "{}\n",
      "<class 'dict'>\n"
     ]
    }
   ],
   "source": [
    "d1={}\n",
    "print(d1)\n",
    "print(type(d1))"
   ]
  },
  {
   "cell_type": "code",
   "execution_count": 21,
   "metadata": {},
   "outputs": [
    {
     "name": "stdout",
     "output_type": "stream",
     "text": [
      "{1: 'Welcome', 2: 'to', 3: 'lessons'}\n",
      "lessons\n"
     ]
    }
   ],
   "source": [
    "d2={1:\"Welcome\",2:\"to\",3:\"our\",3:\"lessons\"}\n",
    "print(d2)\n",
    "print(d2[3])"
   ]
  },
  {
   "cell_type": "code",
   "execution_count": 22,
   "metadata": {},
   "outputs": [
    {
     "name": "stdout",
     "output_type": "stream",
     "text": [
      "{'Name': 'Son', 'Age': '33', 'Gender': 'Male'}\n"
     ]
    }
   ],
   "source": [
    "d3={\"Name\":\"Son\",\"Age\":\"33\",\"Gender\":\"Male\"}\n",
    "print(d3)\n"
   ]
  },
  {
   "cell_type": "code",
   "execution_count": 23,
   "metadata": {},
   "outputs": [
    {
     "name": "stdout",
     "output_type": "stream",
     "text": [
      "{'Name': 'Son', 'Age': '33', 'Gender': 'Male'}\n"
     ]
    }
   ],
   "source": [
    "d4=dict({\"Name\":\"Son\",\"Age\":\"33\",\"Gender\":\"Male\"})\n",
    "print(d4)"
   ]
  },
  {
   "cell_type": "code",
   "execution_count": 24,
   "metadata": {},
   "outputs": [
    {
     "name": "stdout",
     "output_type": "stream",
     "text": [
      "{1: 'we;come', 2: 'to', 3: 'python', 4: 'lessons'}\n"
     ]
    }
   ],
   "source": [
    "d5=dict([(1,\"we;come\"),(2,\"to\"),(3,\"python\"),(4,\"lessons\")])\n",
    "print(d5)"
   ]
  },
  {
   "cell_type": "code",
   "execution_count": 25,
   "metadata": {},
   "outputs": [
    {
     "name": "stdout",
     "output_type": "stream",
     "text": [
      "{'Name': {'first': 'Sam', 'last': 'Jocobs'}, 'Age': '33', 'Gender': 'Male'}\n"
     ]
    }
   ],
   "source": [
    "d6={\"Name\":{\"first\":\"Sam\",\"last\":\"Jocobs\"},\"Age\":\"33\",\"Gender\":\"Male\"}\n",
    "print(d6)\n"
   ]
  },
  {
   "cell_type": "markdown",
   "metadata": {},
   "source": [
    "# Adding Elements"
   ]
  },
  {
   "cell_type": "code",
   "execution_count": 35,
   "metadata": {},
   "outputs": [
    {
     "name": "stdout",
     "output_type": "stream",
     "text": [
      "{0: 'welcome'}\n",
      "{0: 'welcome', 1: ('to', 'python', 'lessons')}\n"
     ]
    }
   ],
   "source": [
    "d={}\n",
    "d[0]=\"welcome\"\n",
    "print(d)\n",
    "d[1]=(\"to\",\"python\",\"lessons\")\n",
    "print(d)"
   ]
  },
  {
   "cell_type": "code",
   "execution_count": 27,
   "metadata": {},
   "outputs": [
    {
     "name": "stdout",
     "output_type": "stream",
     "text": [
      "{0: 'welcome', 1: ('to', 'python', 'lessons'), 'name': 'Sam'}\n"
     ]
    }
   ],
   "source": [
    "d[\"name\"]=\"Sam\"\n",
    "print(d)"
   ]
  },
  {
   "cell_type": "code",
   "execution_count": 38,
   "metadata": {},
   "outputs": [
    {
     "name": "stdout",
     "output_type": "stream",
     "text": [
      "{0: 'welcome', 1: ('to', 'python', 'lessons'), 'name': {'first': 'James', 'last': 'Krebs'}}\n"
     ]
    }
   ],
   "source": [
    "d[\"name\"]={\"first\":\"James\",\"last\":\"Krebs\"}\n",
    "print(d)"
   ]
  },
  {
   "cell_type": "markdown",
   "metadata": {},
   "source": [
    "# access elements"
   ]
  },
  {
   "cell_type": "code",
   "execution_count": 39,
   "metadata": {},
   "outputs": [
    {
     "name": "stdout",
     "output_type": "stream",
     "text": [
      "{0: 'welcome', 1: ('to', 'python', 'lessons'), 'name': {'first': 'James', 'last': 'Krebs'}}\n",
      "James\n"
     ]
    }
   ],
   "source": [
    "print(d)\n",
    "print(d[\"name\"][\"first\"])"
   ]
  },
  {
   "cell_type": "code",
   "execution_count": 30,
   "metadata": {},
   "outputs": [
    {
     "name": "stdout",
     "output_type": "stream",
     "text": [
      "welcome\n",
      "{0: 'welcome', 1: ('to', 'python', 'lessons'), 'name': {'first': 'James', 'last': 'Krebs'}}\n"
     ]
    }
   ],
   "source": [
    "print(d.get(0))\n",
    "print(d)"
   ]
  },
  {
   "cell_type": "markdown",
   "metadata": {},
   "source": [
    "# DELETING ELEMENTS"
   ]
  },
  {
   "cell_type": "code",
   "execution_count": 32,
   "metadata": {},
   "outputs": [
    {
     "name": "stdout",
     "output_type": "stream",
     "text": [
      "{0: 'welcome', 1: ('to', 'python', 'lessons'), 'name': {'first': 'James', 'last': 'Krebs'}}\n",
      "welcome\n"
     ]
    }
   ],
   "source": [
    "print(d)\n",
    "print(d.pop(0))\n"
   ]
  },
  {
   "cell_type": "code",
   "execution_count": 33,
   "metadata": {},
   "outputs": [
    {
     "name": "stdout",
     "output_type": "stream",
     "text": [
      "('name', {'first': 'James', 'last': 'Krebs'})\n"
     ]
    }
   ],
   "source": [
    "print(d.popitem())"
   ]
  },
  {
   "cell_type": "code",
   "execution_count": 40,
   "metadata": {},
   "outputs": [
    {
     "name": "stdout",
     "output_type": "stream",
     "text": [
      "{0: 'welcome', 1: ('to', 'python', 'lessons'), 'name': {'first': 'James', 'last': 'Krebs'}}\n"
     ]
    }
   ],
   "source": [
    "print(d)"
   ]
  },
  {
   "cell_type": "markdown",
   "metadata": {},
   "source": [
    "# USING INBUILT FUNCTIONS"
   ]
  },
  {
   "cell_type": "code",
   "execution_count": 41,
   "metadata": {},
   "outputs": [
    {
     "data": {
      "text/plain": [
       "dict_values(['welcome', ('to', 'python', 'lessons'), {'first': 'James', 'last': 'Krebs'}])"
      ]
     },
     "execution_count": 41,
     "metadata": {},
     "output_type": "execute_result"
    }
   ],
   "source": [
    "d.values()"
   ]
  },
  {
   "cell_type": "code",
   "execution_count": 42,
   "metadata": {},
   "outputs": [
    {
     "data": {
      "text/plain": [
       "{'a': 1, 'b': 1, '4': 1, 'c': 1}"
      ]
     },
     "execution_count": 42,
     "metadata": {},
     "output_type": "execute_result"
    }
   ],
   "source": [
    "keys={'a','b','c','4'}\n",
    "value=1\n",
    "dict.fromkeys(keys,value)"
   ]
  },
  {
   "cell_type": "markdown",
   "metadata": {},
   "source": [
    "# SETS IN PYTHON\n",
    "SYNTAX variable_name=set(['a','b','c'])"
   ]
  },
  {
   "cell_type": "code",
   "execution_count": 43,
   "metadata": {},
   "outputs": [
    {
     "name": "stdout",
     "output_type": "stream",
     "text": [
      "{1, 2, 3, 4}\n",
      "<class 'set'>\n"
     ]
    }
   ],
   "source": [
    "s1=set([1,2,3,4])\n",
    "print(s1)\n",
    "print(type(s1))"
   ]
  },
  {
   "cell_type": "code",
   "execution_count": 53,
   "metadata": {},
   "outputs": [
    {
     "name": "stdout",
     "output_type": "stream",
     "text": [
      "{'a', 1, 2, 3, 4, 6}\n"
     ]
    }
   ],
   "source": [
    "s1.add(\"a\")\n",
    "s2=s1.add(6)\n",
    "print(s1)"
   ]
  },
  {
   "cell_type": "code",
   "execution_count": 54,
   "metadata": {},
   "outputs": [
    {
     "name": "stdout",
     "output_type": "stream",
     "text": [
      "frozenset({1, 2, 3, 4, 6})\n"
     ]
    }
   ],
   "source": [
    "fs=frozenset([1,2,3,4,6])\n",
    "print(fs)"
   ]
  },
  {
   "cell_type": "code",
   "execution_count": 57,
   "metadata": {},
   "outputs": [
    {
     "data": {
      "text/plain": [
       "frozenset({1, 2, 3, 4, 6, 'd'})"
      ]
     },
     "execution_count": 57,
     "metadata": {},
     "output_type": "execute_result"
    }
   ],
   "source": [
    "fs.union(\"d\")"
   ]
  },
  {
   "cell_type": "code",
   "execution_count": 60,
   "metadata": {},
   "outputs": [
    {
     "name": "stdout",
     "output_type": "stream",
     "text": [
      "{0, 1, 2, 3, 4, 5, 'a', 7, 8, 9, 6, 'good'}\n"
     ]
    }
   ],
   "source": [
    "s2=set([1,2,3,4,5])\n",
    "s3=set([7,8,9,0,\"good\"])\n",
    "\n",
    "result=s2.union(s3,s1)\n",
    "print(result)"
   ]
  },
  {
   "cell_type": "code",
   "execution_count": 61,
   "metadata": {},
   "outputs": [
    {
     "name": "stdout",
     "output_type": "stream",
     "text": [
      "{1, 2, 3, 4, 5}\n"
     ]
    }
   ],
   "source": [
    "dif=s2.difference(s3)\n",
    "print(dif)"
   ]
  }
 ],
 "metadata": {
  "kernelspec": {
   "display_name": "base",
   "language": "python",
   "name": "python3"
  },
  "language_info": {
   "codemirror_mode": {
    "name": "ipython",
    "version": 3
   },
   "file_extension": ".py",
   "mimetype": "text/x-python",
   "name": "python",
   "nbconvert_exporter": "python",
   "pygments_lexer": "ipython3",
   "version": "3.12.7"
  }
 },
 "nbformat": 4,
 "nbformat_minor": 2
}
